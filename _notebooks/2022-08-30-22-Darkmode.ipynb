{
 "cells": [
  {
   "cell_type": "markdown",
   "metadata": {},
   "source": [
    "# Darkmode for GitHub Fastpages\n",
    "> \"An implementation of the darkmode for GitHub Fastpages\"\n",
    "\n",
    "- toc: true\n",
    "- branch: master\n",
    "- badges: true\n",
    "- comments: true\n",
    "- author: Vunsh Mehta\n",
    "- categories: [fastpages, jupyter, darkmode]"
   ]
  },
  {
   "cell_type": "markdown",
   "metadata": {},
   "source": [
    "### Hey bloggers!\n",
    "If you are on this page, chances are you are interested in implementing **dark mode** into your website. What you see now is an example of Dark Mode being used on a Github fastpages build. It is a very simple addition that can help personalize your site.\n",
    "\n",
    "[Original Blog Post](https://thinking-slow.eth.limo/colours/jekyll/css/fastpages/2020/10/30/hello-dark-mode.html)\n"
   ]
  },
  {
   "cell_type": "markdown",
   "metadata": {},
   "source": [
    "#### Guide\n",
    "- Navigate to the style directory in your code editor. This is by default stored in **_sass/minima**. [Example minima folder](https://github.com/vunsh/blogging/tree/master/_sass/minima)\n",
    "- Create a file in this directory for your dark mode styling. Name it whatever you want, but for this guide I named it **dark-mode.scss**. Make sure you use the scss file suffix! [Example dark mode file](https://github.com/vunsh/blogging/blob/master/_sass/minima/dark-mode.scss)\n",
    "- If you would like to use the default dark mode template, copy the code from [this file](https://github.com/vunsh/blogging/blob/master/_sass/minima/dark-mode.scss) and paste it into your dark mode file.\n",
    "- Navigate to the custom styles file in your text editor folder. By default, it is named **custom-styles.scss** [Example Custom Styles File](https://github.com/vunsh/blogging/blob/master/_sass/minima/custom-styles.scss)\n",
    "- Under the comment, import your dark mode file. [Example import statement](https://github.com/vunsh/blogging/blob/master/_sass/minima/custom-styles.scss)\n",
    "\n",
    "```/*-----------------------------------*/\n",
    "\n",
    "/*----- ADD YOUR STYLES BELOW -------*/\n",
    "\n",
    "@import \"minima/dark-mode\";```"
   ]
  },
  {
   "cell_type": "markdown",
   "metadata": {},
   "source": [
    "#### Links\n",
    "Credit to this blog post [here](https://thinking-slow.eth.limo/colours/jekyll/css/fastpages/2020/10/30/hello-dark-mode.html) for the information.\n",
    "\n",
    "Example [repository](https://github.com/vunsh/blogging) that has dark mode implemented\n",
    "\n",
    "#### Further your Knowledge\n",
    "Dark mode is cool and all, but why not take it a step further? See if you can figure out how to toggle the import statement on and off to make a toggleable theme set. Try editing the dark mode file to mess around with the shades/colors of your dark mode settings to make it as personalized as you can. Be creative and innovative!\n"
   ]
  },
  {
   "cell_type": "markdown",
   "metadata": {},
   "source": []
  }
 ],
 "metadata": {
  "kernelspec": {
   "display_name": "Python 3.9.6 64-bit (windows store)",
   "language": "python",
   "name": "python3"
  },
  "language_info": {
   "name": "python",
   "version": "3.9.6"
  },
  "orig_nbformat": 4,
  "vscode": {
   "interpreter": {
    "hash": "8525903ab95157e1dc62a3d3d4a09455ee75699cfc1e67cfc4d005c2079f292b"
   }
  }
 },
 "nbformat": 4,
 "nbformat_minor": 2
}
