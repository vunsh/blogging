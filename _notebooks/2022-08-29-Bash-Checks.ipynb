{
 "cells": [
  {
   "cell_type": "markdown",
   "metadata": {},
   "source": [
    "# Bash Checks\n",
    "> Runnable code to confirm tools are installed \n",
    "- toc: false\n",
    "- layout: post\n",
    "- categories: [Bash, Jupyter]\n",
    "- author: Vunsh Mehta"
   ]
  },
  {
   "cell_type": "code",
   "execution_count": null,
   "metadata": {},
   "outputs": [],
   "source": [
    "echo \"use jupyter kernelspec to view all runnable kernals\"\n",
    "(base) id:~$ jupyter kernelspec list # list kernels"
   ]
  },
  {
   "cell_type": "markdown",
   "metadata": {},
   "source": [
    "```\n",
    "Available kernels:\n",
    "  bash          /home/vunsh/.local/share/jupyter/kernels/bash\n",
    "  java          /home/vunsh/.local/share/jupyter/kernels/java\n",
    "  javascript    /home/vunsh/.local/share/jupyter/kernels/javascript\n",
    "  python3       /home/vunsh/.local/share/jupyter/kernels/python3\n",
    "```"
   ]
  },
  {
   "cell_type": "markdown",
   "metadata": {},
   "source": [
    "For proof of other installations, view fastpages website."
   ]
  }
 ],
 "metadata": {
  "kernelspec": {
   "display_name": "Python 3.9.6 64-bit (windows store)",
   "language": "python",
   "name": "python3"
  },
  "language_info": {
   "name": "python",
   "version": "3.9.6"
  },
  "orig_nbformat": 4,
  "vscode": {
   "interpreter": {
    "hash": "8525903ab95157e1dc62a3d3d4a09455ee75699cfc1e67cfc4d005c2079f292b"
   }
  }
 },
 "nbformat": 4,
 "nbformat_minor": 2
}
