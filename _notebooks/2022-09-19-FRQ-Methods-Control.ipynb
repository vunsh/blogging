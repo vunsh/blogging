{
 "cells": [
  {
   "cell_type": "markdown",
   "metadata": {},
   "source": [
    "# \"FRQ Response #1: Methods and Control\"\n",
    "> \"Answer to the 2020 AP CSA FRQ Example 1: Methods and Control\"\n",
    "\n",
    "- toc: true\n",
    "- branch: master\n",
    "- badges: true\n",
    "- comments: true\n",
    "- author: Vunsh Mehta\n",
    "- categories: [fastpages, jupyter, FRQ, CSA]\n",
    "- hide: true\n"
   ]
  },
  {
   "cell_type": "markdown",
   "metadata": {},
   "source": [
    "### Part A\n",
    "> Write the `isValid` method. The method returns `true` if its parameter\n",
    "`numWithCheckDigit`, which represents a number containing a\n",
    "check digit, is valid, and `false` otherwise. The check digit is always the rightmost digit of `numWithCheckDigit`."
   ]
  },
  {
   "cell_type": "code",
   "execution_count": null,
   "metadata": {},
   "outputs": [],
   "source": [
    "public static boolean isValid(int numWithCheckDigit){\n",
    "        //get the last digit of numWithCheckDigit\n",
    "        int lastDigit = numWithCheckDigit % 10;\n",
    "        int num = numWithCheckDigit / 10;\n",
    "        if(getCheck(num) == lastDigit){\n",
    "            return true;\n",
    "        }\n",
    "        else{\n",
    "            return false;\n",
    "        }\n",
    "    } //Method that checks last digit"
   ]
  },
  {
   "cell_type": "markdown",
   "metadata": {},
   "source": [
    "### Part B\n",
    "> A programmer wants to modify the `CheckDigit` class to keep track\n",
    "of how many times a call to `isValid` is made with an incorrect check\n",
    "digit. Any time a call to `isValid` is made with an incorrect check\n",
    "digit, the count should be increased by one. The programmer would like\n",
    "to implement this change without making any changes to the signature of\n",
    "the `isValid` method or overloading `isValid`.\n",
    "\n",
    "Because of the nature of the method, returning another variable containing the amount of false returns would require altering the signature of the method. Therefore, the most logical solution is to use a variable in a seperate class that isValid is called on to keep track of the amount of false returns. By using an if statement to check if `isValid` returns false, the variable can be incremented by one without altering the signature of the original method. \n",
    "\n"
   ]
  },
  {
   "cell_type": "markdown",
   "metadata": {},
   "source": []
  }
 ],
 "metadata": {
  "kernelspec": {
   "display_name": "Python 3.9.6 64-bit (microsoft store)",
   "language": "python",
   "name": "python3"
  },
  "language_info": {
   "name": "python",
   "version": "3.9.6"
  },
  "orig_nbformat": 4,
  "vscode": {
   "interpreter": {
    "hash": "8525903ab95157e1dc62a3d3d4a09455ee75699cfc1e67cfc4d005c2079f292b"
   }
  }
 },
 "nbformat": 4,
 "nbformat_minor": 2
}
