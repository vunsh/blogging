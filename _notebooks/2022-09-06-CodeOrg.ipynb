{
 "cells": [
  {
   "cell_type": "markdown",
   "metadata": {},
   "source": [
    "# Code.org\n",
    "> Code.org progress\n",
    "- toc: false\n",
    "- layout: post\n",
    "- categories: [CSA, Jupyter, Code.org]\n",
    "- author: Vunsh Mehta"
   ]
  },
  {
   "cell_type": "markdown",
   "metadata": {},
   "source": [
    "# Code.org completion\n",
    "\n",
    "![Completionoflearning]({/images/CLCEqc0.png)"
   ]
  },
  {
   "cell_type": "markdown",
   "metadata": {},
   "source": [
    "# Use of objects through subclasses and inheritance\n",
    "![Useofobjects]({/images/painterplus.png)"
   ]
  }
 ],
 "metadata": {
  "kernelspec": {
   "display_name": "Python 3.9.6 64-bit (microsoft store)",
   "language": "python",
   "name": "python3"
  },
  "language_info": {
   "name": "python",
   "version": "3.9.6"
  },
  "orig_nbformat": 4,
  "vscode": {
   "interpreter": {
    "hash": "8525903ab95157e1dc62a3d3d4a09455ee75699cfc1e67cfc4d005c2079f292b"
   }
  }
 },
 "nbformat": 4,
 "nbformat_minor": 2
}
