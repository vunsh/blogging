{
 "cells": [
  {
   "cell_type": "markdown",
   "metadata": {},
   "source": [
    "# Code.org\n",
    "> Code.org progress\n",
    "- toc: false\n",
    "- layout: post\n",
    "- categories: [CSA, Jupyter, Code.org]\n",
    "- author: Vunsh Mehta"
   ]
  },
  {
   "cell_type": "markdown",
   "metadata": {},
   "source": [
    "![test](https://prnt.sc/ifHLDyqPrNal)"
   ]
  }
 ],
 "metadata": {
  "kernelspec": {
   "display_name": "Python 3.9.6 64-bit (microsoft store)",
   "language": "python",
   "name": "python3"
  },
  "language_info": {
   "name": "python",
   "version": "3.9.6"
  },
  "orig_nbformat": 4,
  "vscode": {
   "interpreter": {
    "hash": "8525903ab95157e1dc62a3d3d4a09455ee75699cfc1e67cfc4d005c2079f292b"
   }
  }
 },
 "nbformat": 4,
 "nbformat_minor": 2
}
