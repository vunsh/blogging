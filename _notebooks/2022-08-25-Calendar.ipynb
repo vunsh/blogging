{
 "cells": [
  {
   "cell_type": "markdown",
   "metadata": {},
   "source": [
    "# Calendar\n",
    "> Calendar \n",
    "- toc: true\n",
    "- layout: post\n",
    "- categories: [Calendar]\n",
    "- author: Vunsh Mehta"
   ]
  },
  {
   "cell_type": "markdown",
   "metadata": {},
   "source": [
    "| *August*      | Sunday | Monday | Tuesday | Wednesday | Thursday | Friday | Saturday |\n",
    "| ----------- | ------ | ------ | ------- | --------- | -------- | ------ | -------- |\n",
    "|             |        |   1  |   2  |   3  |   4  |   5  |   6  |\n",
    "|             |  7  |  8  |  9  |  10  |   11  |   12  |   13  \n",
    "|             |  14  |   15  |   16  |   17  |   18  |   19  |   20  |  \n",
    "|             | 21 <ul><li>Submit Tools and Equipment for CSA. </li><li> Get bag ready for school tommorow </li></ul> | 22 <ul><li>Work on CSA FastPages.</li><li>Start Civics Political Spectrum Presentation.</li></ul> | 23  <ul><li>Work on CSA FastPages.</li><li>Continue Civics Political Spectrum Presentation.</li></ul> | 24 <ul><li>Work on CSA FastPages.</li><li>Prepare for filming of My Life Project.</li></ul>  | 25 <ul><li>Work on CSA FastPages </li> <li> Complete Filming for My Life Project </li></ul> |   26  |   27  |  \n",
    "|  28  |   29  |   30  |   31  |\n"
   ]
  },
  {
   "cell_type": "markdown",
   "metadata": {},
   "source": []
  }
 ],
 "metadata": {
  "kernelspec": {
   "display_name": "Python 3.9.6 64-bit",
   "language": "python",
   "name": "python3"
  },
  "language_info": {
   "name": "python",
   "version": "3.9.6"
  },
  "orig_nbformat": 4,
  "vscode": {
   "interpreter": {
    "hash": "89a14ff9fa9c821227a0a14d5af2e35dfebf538b2f13456a8ea0a9f0beb29fab"
   }
  }
 },
 "nbformat": 4,
 "nbformat_minor": 2
}
