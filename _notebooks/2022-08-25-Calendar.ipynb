{
 "cells": [
  {
   "cell_type": "markdown",
   "metadata": {},
   "source": [
    "# CSA Journals\n",
    "> Calendar \n",
    "- toc: true\n",
    "- layout: post\n",
    "- categories: [Calendar]\n",
    "- author: Vunsh Mehta"
   ]
  },
  {
   "cell_type": "markdown",
   "metadata": {},
   "source": [
    "| *August*      | Sunday | Monday | Tuesday | Wednesday | Thursday | Friday | Saturday |\n",
    "| ----------- | ------ | ------ | ------- | --------- | -------- | ------ | -------- |\n",
    "|             |        |  <font size=\"2\"> 1 </font> |  <font size=\"2\"> 2 </font> |  <font size=\"2\"> 3 </font> |  <font size=\"2\"> 4 </font> |  <font size=\"2\"> 5 </font> |  <font size=\"2\"> 6 </font> |\n",
    "|             | <font size=\"2\"> 7 </font> | <font size=\"2\"> 8 </font> | <font size=\"2\"> 9 </font> | <font size=\"2\"> 10 </font> |  <font size=\"2\"> 11 </font> |  <font size=\"2\"> 12 </font> |  <font size=\"2\"> 13 </font> \n",
    "|             | <font size=\"2\"> 14 </font> |  <font size=\"2\"> 15 </font> |  <font size=\"2\"> 16 </font> |  <font size=\"2\"> 17 </font> |  <font size=\"2\"> 18 </font> |  <font size=\"2\"> 19 </font> |  <font size=\"2\"> 20 </font> |  \n",
    "|             | <font size=\"2\"> 21 <font size=\"2\"><ul><li>Submit Tools and Equipment for CSA. </li><li> Get bag ready for school tommorow </li></ul></font></font> |  <font size=\"2\"> 22 <font size=\"2\"><ul><li>Work on CSA FastPages.</li><li>Start Civics Political Spectrum Presentation.</li></ul></font></font> |  <font size=\"2\"> 23 </font> <font size=\"2\"><ul><li>Work on CSA FastPages.</li><li>Continue Civics Political Spectrum Presentation.</li></ul></font> |  <font size=\"2\"> 24 <ul><li>Work on CSA FastPages.</li><li>Prepare for filming of My Life Project.</li></ul> </font> |  <font size=\"2\"> 25 <ul><li>Work on CSA FastPages </li> <li> Complete Filming for My Life Project </li></ul></font> |  <font size=\"2\"> 26 </font> |  <font size=\"2\"> 27 </font> |  \n",
    "| <font size=\"2\"> 28 </font> |  <font size=\"2\"> 29 </font> |  <font size=\"2\"> 30 </font> |  <font size=\"2\"> 31 </font> |\n"
   ]
  }
 ],
 "metadata": {
  "kernelspec": {
   "display_name": "Python 3.9.6 64-bit",
   "language": "python",
   "name": "python3"
  },
  "language_info": {
   "name": "python",
   "version": "3.9.6"
  },
  "orig_nbformat": 4,
  "vscode": {
   "interpreter": {
    "hash": "89a14ff9fa9c821227a0a14d5af2e35dfebf538b2f13456a8ea0a9f0beb29fab"
   }
  }
 },
 "nbformat": 4,
 "nbformat_minor": 2
}
