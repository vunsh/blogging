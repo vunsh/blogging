{
 "cells": [
  {
   "cell_type": "markdown",
   "metadata": {},
   "source": [
    "---\n",
    "toc: true\n",
    "layout: post\n",
    "description: Notes for CSA Lectures.\n",
    "categories: [Journal]\n",
    "title: CSA Journals\n",
    "---\n",
    "# ***Anatomy of Java ~ 8/19/22***\n",
    "\n",
    "\n",
    "## Front Matter\n",
    "- Front Matter - works with Jupyter notebooks to deploy bogs into fastpages\n",
    "- Journals/Code examples possible, migrate from using Google Docs etc to Markdown and Jupyter\n",
    "\n",
    "## Java Info\n",
    "\n",
    "- Multiple functions/classes can have the same name with different signatures (parameters, etc)\n",
    "- Java is an Object Oriented Programming language\n",
    "\n",
    "# **Primitive Data ~ 8/23/22**\n",
    "\n",
    "\n",
    "## Primitve Data Types\n",
    "- Things like booleans and numeric data types are considered primitive.\n",
    "\n",
    "## Non Primitive Data Types\n",
    "- Everything else (String, Array, etc.)\n",
    "\n",
    "\n",
    "\n"
   ]
  },
  {
   "cell_type": "code",
   "execution_count": null,
   "metadata": {
    "vscode": {
     "languageId": "java"
    }
   },
   "outputs": [],
   "source": [
    "public class DefinePrimitives {\n",
    "    public static void main(String[] args) {\n",
    "      int anInt = 100;\n",
    "      double aDouble = 89.9;\n",
    "      boolean aBoolean = true;\n",
    "\n",
    "      // not primitives but essential\n",
    "      String aString = \"Hello, World!\";   // wrapper class shortcut assignment\n",
    "      String aStringFormal = new String(\"Greetings, World!\");\n",
    "  \n",
    "      System.out.println(\"anInt: \" + anInt);\n",
    "      System.out.println(\"aDouble: \" + aDouble);\n",
    "      System.out.println(\"aBoolean: \" + aBoolean);\n",
    "      System.out.println(\"aString: \" + aString);\n",
    "      System.out.println(\"aStringFormal: \" + aStringFormal);\n",
    "    }\n",
    "  }\n",
    "  DefinePrimitives.main(null)"
   ]
  }
 ],
 "metadata": {
  "kernelspec": {
   "display_name": "Python 3.9.6 64-bit (windows store)",
   "language": "python",
   "name": "python3"
  },
  "language_info": {
   "name": "python",
   "version": "3.9.6"
  },
  "orig_nbformat": 4,
  "vscode": {
   "interpreter": {
    "hash": "8525903ab95157e1dc62a3d3d4a09455ee75699cfc1e67cfc4d005c2079f292b"
   }
  }
 },
 "nbformat": 4,
 "nbformat_minor": 2
}
