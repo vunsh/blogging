{
 "cells": [
  {
   "cell_type": "markdown",
   "metadata": {},
   "source": [
    "# Focus and Skills\n",
    "> Video notes and a reflection\n",
    "\n",
    "- toc: true\n",
    "- branch: master\n",
    "- badges: true\n",
    "- comments: true\n",
    "- author: Vunsh Mehta\n",
    "- categories: [fastpages, jupyter, focus]"
   ]
  },
  {
   "cell_type": "markdown",
   "metadata": {},
   "source": [
    "## Video Notes\n",
    "- Students are often pressured into giving up their own mental health for the sake of their grades\n",
    "- Self care is as important as doing well in school. Building and maintaining healthy habits is a skill that will help you in the long run.\n",
    "- When one has a better mental state, it is easier to focus on the task at hand. For students, having a better mental state means doing better in school.\n",
    "- Brainstorm ideas for self care! Running, outdoor activities, reading, listening to music, etc.\n",
    "\n",
    "\n"
   ]
  },
  {
   "cell_type": "markdown",
   "metadata": {},
   "source": []
  }
 ],
 "metadata": {
  "kernelspec": {
   "display_name": "Python 3.10.6 64-bit",
   "language": "python",
   "name": "python3"
  },
  "language_info": {
   "name": "python",
   "version": "3.10.6"
  },
  "orig_nbformat": 4,
  "vscode": {
   "interpreter": {
    "hash": "681c05bb71bffabbe871df84e231c2c5a2134032b682a493c2b4b077a8281a63"
   }
  }
 },
 "nbformat": 4,
 "nbformat_minor": 2
}
